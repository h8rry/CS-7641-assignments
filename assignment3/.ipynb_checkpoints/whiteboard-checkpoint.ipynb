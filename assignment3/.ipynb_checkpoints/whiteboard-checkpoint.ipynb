{
 "cells": [
  {
   "cell_type": "code",
   "execution_count": 1,
   "metadata": {},
   "outputs": [
    {
     "name": "stdout",
     "output_type": "stream",
     "text": [
      "Requirement already up-to-date: pip in /home/ubuntu/anaconda3/lib/python3.6/site-packages (19.0.3)\n",
      "Requirement already satisfied: numpy==1.15.1 in /home/ubuntu/anaconda3/lib/python3.6/site-packages (from -r requirements.txt (line 1)) (1.15.1)\n",
      "Requirement already satisfied: scipy==1.1.0 in /home/ubuntu/anaconda3/lib/python3.6/site-packages (from -r requirements.txt (line 2)) (1.1.0)\n",
      "Requirement already satisfied: scikit-learn==0.20.0 in /home/ubuntu/anaconda3/lib/python3.6/site-packages (from -r requirements.txt (line 3)) (0.20.0)\n",
      "Requirement already satisfied: pandas==0.23.4 in /home/ubuntu/anaconda3/lib/python3.6/site-packages (from -r requirements.txt (line 4)) (0.23.4)\n",
      "Requirement already satisfied: tables==3.4.4 in /home/ubuntu/anaconda3/lib/python3.6/site-packages (from -r requirements.txt (line 5)) (3.4.4)\n",
      "Requirement already satisfied: xlrd==0.9.0 in /home/ubuntu/anaconda3/lib/python3.6/site-packages (from -r requirements.txt (line 6)) (0.9.0)\n",
      "Requirement already satisfied: matplotlib==2.2.3 in /home/ubuntu/anaconda3/lib/python3.6/site-packages (from -r requirements.txt (line 7)) (2.2.3)\n",
      "Requirement already satisfied: seaborn==0.9.0 in /home/ubuntu/anaconda3/lib/python3.6/site-packages (from -r requirements.txt (line 8)) (0.9.0)\n",
      "Requirement already satisfied: scikit-optimize==0.5.2 in /home/ubuntu/anaconda3/lib/python3.6/site-packages (from -r requirements.txt (line 9)) (0.5.2)\n",
      "Requirement already satisfied: kneed==0.1.0 in /home/ubuntu/anaconda3/lib/python3.6/site-packages (from -r requirements.txt (line 10)) (0.1.0)\n",
      "Requirement already satisfied: python-dateutil>=2.5.0 in /home/ubuntu/anaconda3/lib/python3.6/site-packages (from pandas==0.23.4->-r requirements.txt (line 4)) (2.7.3)\n",
      "Requirement already satisfied: pytz>=2011k in /home/ubuntu/anaconda3/lib/python3.6/site-packages (from pandas==0.23.4->-r requirements.txt (line 4)) (2018.4)\n",
      "Requirement already satisfied: numexpr>=2.5.2 in /home/ubuntu/anaconda3/lib/python3.6/site-packages (from tables==3.4.4->-r requirements.txt (line 5)) (2.6.5)\n",
      "Requirement already satisfied: six>=1.9.0 in /home/ubuntu/anaconda3/lib/python3.6/site-packages (from tables==3.4.4->-r requirements.txt (line 5)) (1.11.0)\n",
      "Requirement already satisfied: cycler>=0.10 in /home/ubuntu/anaconda3/lib/python3.6/site-packages (from matplotlib==2.2.3->-r requirements.txt (line 7)) (0.10.0)\n",
      "Requirement already satisfied: kiwisolver>=1.0.1 in /home/ubuntu/anaconda3/lib/python3.6/site-packages (from matplotlib==2.2.3->-r requirements.txt (line 7)) (1.0.1)\n",
      "Requirement already satisfied: pyparsing!=2.0.4,!=2.1.2,!=2.1.6,>=2.0.1 in /home/ubuntu/anaconda3/lib/python3.6/site-packages (from matplotlib==2.2.3->-r requirements.txt (line 7)) (2.2.0)\n",
      "Requirement already satisfied: setuptools in /home/ubuntu/anaconda3/lib/python3.6/site-packages (from kiwisolver>=1.0.1->matplotlib==2.2.3->-r requirements.txt (line 7)) (39.1.0)\n"
     ]
    }
   ],
   "source": [
    "!pip install --upgrade pip\n",
    "!pip install -r requirements.txt"
   ]
  },
  {
   "cell_type": "code",
   "execution_count": null,
   "metadata": {},
   "outputs": [],
   "source": [
    "!python run_experiment.py --all"
   ]
  },
  {
   "cell_type": "code",
   "execution_count": null,
   "metadata": {},
   "outputs": [],
   "source": []
  }
 ],
 "metadata": {
  "colab": {
   "collapsed_sections": [],
   "name": "Supervised Learning.ipynb",
   "provenance": [],
   "version": "0.3.2"
  },
  "kernelspec": {
   "display_name": "Python 3",
   "language": "python",
   "name": "python3"
  },
  "language_info": {
   "codemirror_mode": {
    "name": "ipython",
    "version": 3
   },
   "file_extension": ".py",
   "mimetype": "text/x-python",
   "name": "python",
   "nbconvert_exporter": "python",
   "pygments_lexer": "ipython3",
   "version": "3.6.5"
  }
 },
 "nbformat": 4,
 "nbformat_minor": 1
}
